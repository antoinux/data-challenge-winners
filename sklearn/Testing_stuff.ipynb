{
 "cells": [
  {
   "cell_type": "code",
   "execution_count": 137,
   "metadata": {
    "collapsed": true
   },
   "outputs": [],
   "source": [
    "import pandas as pd\n",
    "import numpy as np"
   ]
  },
  {
   "cell_type": "code",
   "execution_count": 138,
   "metadata": {
    "collapsed": true
   },
   "outputs": [],
   "source": [
    "df = pd.read_csv('data-challenge-winners/data/train_great.csv', sep=';')"
   ]
  },
  {
   "cell_type": "code",
   "execution_count": 139,
   "metadata": {
    "collapsed": false
   },
   "outputs": [],
   "source": [
    "X = df['message'].values\n",
    "y = df['y'].values"
   ]
  },
  {
   "cell_type": "code",
   "execution_count": 140,
   "metadata": {
    "collapsed": false
   },
   "outputs": [],
   "source": [
    "for i in range(X.shape[0]):\n",
    "    if(pd.isnull(X[i])):\n",
    "        X[i] = \"PLSSSSSSSSSSSSSSSSSSSSSSSSSSSSSSS\""
   ]
  },
  {
   "cell_type": "code",
   "execution_count": 141,
   "metadata": {
    "collapsed": true
   },
   "outputs": [],
   "source": [
    "from sklearn.feature_extraction.text import CountVectorizer\n",
    "from sklearn.feature_extraction.text import TfidfTransformer\n",
    "from sklearn.feature_extraction.text import TfidfVectorizer\n",
    "from sklearn.cross_validation import train_test_split\n",
    "from sklearn.naive_bayes import BernoulliNB\n",
    "from sklearn.naive_bayes import MultinomialNB\n",
    "from sklearn.naive_bayes import GaussianNB\n",
    "from sklearn.pipeline import Pipeline\n",
    "from sklearn.grid_search import GridSearchCV\n",
    "from sklearn.linear_model import LogisticRegression\n",
    "import time"
   ]
  },
  {
   "cell_type": "code",
   "execution_count": 142,
   "metadata": {
    "collapsed": false
   },
   "outputs": [
    {
     "name": "stdout",
     "output_type": "stream",
     "text": [
      "best alpha = 0.6 ; best score = 0.7805209513023783\n"
     ]
    }
   ],
   "source": [
    "X_vec = CountVectorizer(binary=True, ngram_range=(1, 1)).fit_transform(X)\n",
    "params = {'alpha' : [0.4,0.45,0.5,0.55,0.6,0.7,0.8,0.9,1.]}\n",
    "grid = GridSearchCV(BernoulliNB(), params)\n",
    "grid.fit(X_vec, y)\n",
    "print(\"best alpha = {} ; best score = {}\".format(grid.best_params_['alpha'], grid.best_score_))"
   ]
  },
  {
   "cell_type": "code",
   "execution_count": 6,
   "metadata": {
    "collapsed": false
   },
   "outputs": [
    {
     "name": "stdout",
     "output_type": "stream",
     "text": [
      "best alpha = 0.15 ; best score = 0.7626274065685165\n"
     ]
    }
   ],
   "source": [
    "X_vec = TfidfVectorizer(binary=False, ngram_range=(1, 2)).fit_transform(X)\n",
    "params = {'alpha' : [0.,0.1,0.14,0.15,0.16,0.2,0.25,0.3,0.4,0.5]}\n",
    "grid = GridSearchCV(MultinomialNB(), params)\n",
    "grid.fit(X_vec, y)\n",
    "print(\"best alpha = {} ; best score = {}\".format(grid.best_params_['alpha'], grid.best_score_))"
   ]
  },
  {
   "cell_type": "code",
   "execution_count": 7,
   "metadata": {
    "collapsed": false
   },
   "outputs": [
    {
     "name": "stdout",
     "output_type": "stream",
     "text": [
      "Threshold = 0.4 ; Score = 0.7146092865232163\n",
      "Threshold = 0.45 ; Score = 0.7485843714609286\n",
      "Threshold = 0.47 ; Score = 0.7497168742921857\n",
      "Threshold = 0.49 ; Score = 0.7542468856172141\n",
      "Threshold = 0.5 ; Score = 0.766704416761042\n",
      "Threshold = 0.51 ; Score = 0.7746319365798414\n",
      "Threshold = 0.53 ; Score = 0.7757644394110985\n",
      "Threshold = 0.55 ; Score = 0.7734994337485843\n",
      "Threshold = 0.57 ; Score = 0.7712344280860702\n",
      "Threshold = 0.59 ; Score = 0.7655719139297849\n",
      "Threshold = 0.6 ; Score = 0.7599093997734995\n"
     ]
    }
   ],
   "source": [
    "X_train, X_test, y_train, y_test = train_test_split(\n",
    "         X_vec, y, test_size=0.20,)\n",
    "clf = MultinomialNB(alpha=grid.best_params_['alpha']).fit(X_train, y_train)\n",
    "y_pred = clf.predict_proba(X_test)[:,1]\n",
    "\n",
    "T = [0.4,0.45,0.47,0.49,0.5,0.51,0.53,0.55,0.57,0.59,0.6]\n",
    "for th in T:\n",
    "    print(\"Threshold = {} ; Score = {}\".format(th, sum((y_pred > th) == y_test)/y_test.shape[0]))"
   ]
  },
  {
   "cell_type": "code",
   "execution_count": 16,
   "metadata": {
    "collapsed": false
   },
   "outputs": [
    {
     "name": "stdout",
     "output_type": "stream",
     "text": [
      "best C = 4 ; best score = 0.8004530011325028   in 7.098598480224609 secondes\n"
     ]
    }
   ],
   "source": [
    "start = time.time()\n",
    "X_vec = CountVectorizer(binary=True, ngram_range=(1, 2), stop_words='english').fit_transform(X)\n",
    "params = {'C' : [0.1,0.5,1,2,3,4,5,7,8,9,10]}\n",
    "grid = GridSearchCV(LogisticRegression(), params, cv = 5)\n",
    "grid.fit(X_vec, y)\n",
    "print(\"best C = {} ; best score = {}   in {} secondes\".format(grid.best_params_['C'], grid.best_score_, time.time() - start))"
   ]
  },
  {
   "cell_type": "code",
   "execution_count": 145,
   "metadata": {
    "collapsed": false
   },
   "outputs": [
    {
     "name": "stdout",
     "output_type": "stream",
     "text": [
      "Threshold = 0.4 ; Score = 0.8122171945701357\n",
      "Threshold = 0.45 ; Score = 0.8212669683257918\n",
      "Threshold = 0.47 ; Score = 0.8235294117647058\n",
      "Threshold = 0.49 ; Score = 0.8190045248868778\n",
      "Threshold = 0.5 ; Score = 0.8190045248868778\n",
      "Threshold = 0.51 ; Score = 0.8190045248868778\n",
      "Threshold = 0.53 ; Score = 0.8190045248868778\n",
      "Threshold = 0.55 ; Score = 0.8167420814479638\n",
      "Threshold = 0.57 ; Score = 0.8144796380090498\n",
      "Threshold = 0.59 ; Score = 0.8144796380090498\n",
      "Threshold = 0.6 ; Score = 0.8144796380090498\n"
     ]
    }
   ],
   "source": [
    "X_vec = CountVectorizer(binary=True, ngram_range=(1, 2)).fit_transform(X)\n",
    "X_train, X_test, y_train, y_test = train_test_split(\n",
    "         X_vec, y, test_size=0.10,)\n",
    "clf = LogisticRegression(C=5).fit(X_train, y_train)\n",
    "y_pred = clf.predict_proba(X_test)[:,1]\n",
    "\n",
    "T = [0.4,0.45,0.47,0.49,0.5,0.51,0.53,0.55,0.57,0.59,0.6]\n",
    "for th in T:\n",
    "    print(\"Threshold = {} ; Score = {}\".format(th, sum((y_pred > th) == y_test)/y_test.shape[0]))"
   ]
  },
  {
   "cell_type": "code",
   "execution_count": 28,
   "metadata": {
    "collapsed": false
   },
   "outputs": [
    {
     "name": "stdout",
     "output_type": "stream",
     "text": [
      "best C = 500 ; best score = 0.7868629671574179\n"
     ]
    }
   ],
   "source": [
    "X_vec = TfidfVectorizer(binary=True, ngram_range=(1, 2), stop_words='english').fit_transform(X)\n",
    "params = {'C' : [50,100,200,500,700,1000]}\n",
    "grid = GridSearchCV(LogisticRegression(), params)\n",
    "grid.fit(X_vec, y)\n",
    "print(\"best C = {} ; best score = {}\".format(grid.best_params_['C'], grid.best_score_))"
   ]
  },
  {
   "cell_type": "code",
   "execution_count": 161,
   "metadata": {
    "collapsed": false
   },
   "outputs": [
    {
     "name": "stdout",
     "output_type": "stream",
     "text": [
      "best C = 30 ; best score = 0.7970554926387315   in 2.9330592155456543 secondes\n"
     ]
    }
   ],
   "source": [
    "start = time.time()\n",
    "X_vec = CountVectorizer(binary=True, ngram_range=(1, 2)).fit_transform(X)\n",
    "params = {'C' : [27.]}\n",
    "grid = GridSearchCV(LogisticRegression(fit_intercept=True, class_weight={1 : np.sum(y_train)/n, 0 : 1 - np.sum(y_train)/n}), params, cv = 5)\n",
    "grid.fit(X_vec, y)\n",
    "print(\"best C = {} ; best score = {}   in {} secondes\".format(grid.best_params_['C'], grid.best_score_, time.time() - start))"
   ]
  },
  {
   "cell_type": "code",
   "execution_count": null,
   "metadata": {
    "collapsed": true
   },
   "outputs": [],
   "source": [
    "# best C = 27.0 ; best score = 0.8217440543601359   in 5.1147871017456055 secondes"
   ]
  },
  {
   "cell_type": "code",
   "execution_count": 116,
   "metadata": {
    "collapsed": false
   },
   "outputs": [
    {
     "name": "stdout",
     "output_type": "stream",
     "text": [
      "0.809954751131\n"
     ]
    }
   ],
   "source": [
    "# Avec intercept\n",
    "df = pd.read_csv('data-challenge-winners/data/train_better.csv', sep=';')\n",
    "X = df['message'].values\n",
    "y = df['y'].values\n",
    "\n",
    "X_vec = CountVectorizer(binary=True, ngram_range=(1, 1)).fit_transform(X)\n",
    "n_samples, n_features = X_vec.shape\n",
    "n = (n_samples*9)//10\n",
    "X_train, y_train, X_valid, y_valid = X_vec[:n,:], y[:n], X_vec[n:,:], y[n:]\n",
    "clf = LogisticRegression(tol=1e-7,C=6.,fit_intercept=True, class_weight={1 : np.sum(y_train)/n, 0 : 1 - np.sum(y_train)/n}).fit(X_train, y_train)\n",
    "y_pred = clf.predict(X_valid)\n",
    "print(np.sum(y_pred == y_valid)/(n_samples - n))"
   ]
  },
  {
   "cell_type": "code",
   "execution_count": 37,
   "metadata": {
    "collapsed": false
   },
   "outputs": [],
   "source": [
    "y_test = (X_valid.dot(clf.coef_.T) + clf.intercept_) > 0."
   ]
  },
  {
   "cell_type": "code",
   "execution_count": 38,
   "metadata": {
    "collapsed": false
   },
   "outputs": [
    {
     "data": {
      "text/plain": [
       "0.0"
      ]
     },
     "execution_count": 38,
     "metadata": {},
     "output_type": "execute_result"
    }
   ],
   "source": [
    "np.sum(y_test != y_pred.reshape(n_samples - n,1))/(n_samples - n)"
   ]
  },
  {
   "cell_type": "code",
   "execution_count": 39,
   "metadata": {
    "collapsed": false
   },
   "outputs": [
    {
     "data": {
      "text/plain": [
       "array([-1.52594777])"
      ]
     },
     "execution_count": 39,
     "metadata": {},
     "output_type": "execute_result"
    }
   ],
   "source": [
    "clf.intercept_"
   ]
  },
  {
   "cell_type": "code",
   "execution_count": 40,
   "metadata": {
    "collapsed": false
   },
   "outputs": [
    {
     "data": {
      "text/plain": [
       "array([[ -3.76985496e-03,   3.50238824e-03,  -3.76985496e-03, ...,\n",
       "          7.53690493e-03,   4.38145461e-05,   6.97910047e-03]])"
      ]
     },
     "execution_count": 40,
     "metadata": {},
     "output_type": "execute_result"
    }
   ],
   "source": [
    "clf.coef_"
   ]
  },
  {
   "cell_type": "code",
   "execution_count": 66,
   "metadata": {
    "collapsed": true
   },
   "outputs": [],
   "source": [
    "def val(X, Y, w, w0, C):\n",
    "    n = X.shape[0]\n",
    "    for i in range(n):\n",
    "        if(Y[i] == 0.):\n",
    "            Y[i] = -1.\n",
    "    Y = Y.reshape(n,1)\n",
    "    exp_vect = np.exp(-Y*(X.dot(w) + w0)).reshape(n,1)\n",
    "    return C*np.sum(np.log(1. + exp_vect))/n + (np.sum(w**2) + w0**2)/2\n",
    "\n",
    "def grad(X, Y, w, w0,C):\n",
    "    n,p = X.shape\n",
    "    for i in range(n):\n",
    "        if(Y[i] == 0.):\n",
    "            Y[i] = -1.\n",
    "    Y = Y.reshape(n,1)\n",
    "    exp_vect = np.exp(-Y*(X.dot(w) + w0)).reshape(n,1)\n",
    "    coefs = (-Y*exp_vect/(1. + exp_vect))\n",
    "    return [C*np.sum(coefs) + w0, C*((X.T).dot(coefs)).reshape(p,1)/n + w]"
   ]
  },
  {
   "cell_type": "code",
   "execution_count": 68,
   "metadata": {
    "collapsed": false
   },
   "outputs": [
    {
     "name": "stdout",
     "output_type": "stream",
     "text": [
      "[4575.0, array([[ 0.00151019],\n",
      "       [ 0.0007551 ],\n",
      "       [ 0.00151019],\n",
      "       ..., \n",
      "       [-0.0007551 ],\n",
      "       [ 0.0007551 ],\n",
      "       [-0.0007551 ]])]\n",
      "3\n"
     ]
    }
   ],
   "source": [
    "n,p = X_train.shape\n",
    "w = np.zeros((p,1))\n",
    "w0 = 0.\n",
    "C = 6.\n",
    "cur_grad = grad(X_train, y_train, w, w0, C)\n",
    "norm_grad = np.sqrt(cur_grad[0]**2 + np.sum(cur_grad[1]**2))\n",
    "eps = 7e-1\n",
    "alpha = 0.0002\n",
    "cmp = 0\n",
    "while(norm_grad > eps):\n",
    "    cmp += 1\n",
    "    w0 -= alpha*cur_grad[0]\n",
    "    w -= alpha*cur_grad[1]\n",
    "    cur_grad = grad(X_train, y_train, w, w0, C)\n",
    "    norm_grad = np.sqrt(cur_grad[0]**2 + np.sum(cur_grad[1]**2))\n",
    "print(cmp)"
   ]
  },
  {
   "cell_type": "code",
   "execution_count": 69,
   "metadata": {
    "collapsed": false
   },
   "outputs": [
    {
     "name": "stdout",
     "output_type": "stream",
     "text": [
      "0.717194570136\n"
     ]
    }
   ],
   "source": [
    "print(np.sum(((1./(1. + np.exp(-(X_valid.dot(w) + w0)))) > 0.5) == y_valid.reshape(y_valid.shape[0],1))/y_valid.shape[0])"
   ]
  },
  {
   "cell_type": "code",
   "execution_count": 106,
   "metadata": {
    "collapsed": false
   },
   "outputs": [
    {
     "name": "stdout",
     "output_type": "stream",
     "text": [
      "0.773755656109\n"
     ]
    }
   ],
   "source": [
    "# Sans intercept\n",
    "df = pd.read_csv('data-challenge-winners/data/train_better.csv', sep=';')\n",
    "X = df['message'].values\n",
    "y = df['y'].values\n",
    "\n",
    "X_vec = CountVectorizer(binary=True, ngram_range=(1, 1)).fit_transform(X)\n",
    "n_samples, n_features = X_vec.shape\n",
    "n = (n_samples*9)//10\n",
    "X_train, y_train, X_valid, y_valid = X_vec[:n,:], y[:n], X_vec[n:,:], y[n:]\n",
    "clf = LogisticRegression(tol=5e-2,C=6.0,fit_intercept=False, class_weight={1 : np.sum(y_train)/n, 0 : 1 - np.sum(y_train)/n}).fit(X_train, y_train)\n",
    "y_pred = clf.predict(X_valid)\n",
    "print(np.sum(y_pred == y_valid)/(n_samples - n))"
   ]
  },
  {
   "cell_type": "code",
   "execution_count": 96,
   "metadata": {
    "collapsed": false
   },
   "outputs": [
    {
     "name": "stdout",
     "output_type": "stream",
     "text": [
      "31.8753208025\n",
      "31.9045852582\n"
     ]
    }
   ],
   "source": [
    "def val2(X, Y, w, C):\n",
    "    n = X.shape[0]\n",
    "    for i in range(n):\n",
    "        if(Y[i] == 0.):\n",
    "            Y[i] = -1.\n",
    "    Y = Y.reshape(n,1)\n",
    "    exp_vect = np.exp(-Y*(X.dot(w))).reshape(n,1)\n",
    "    return C*np.sum(np.log(1. + exp_vect))/n + np.sum(w**2)/2.\n",
    "\n",
    "def grad2(X, Y, w, C):\n",
    "    n,p = X.shape\n",
    "    for i in range(n):\n",
    "        if(Y[i] == 0.):\n",
    "            Y[i] = -1.\n",
    "    Y = Y.reshape(n,1)\n",
    "    exp_vect = np.exp(-Y*(X.dot(w))).reshape(n,1)\n",
    "    coefs = (-Y*exp_vect/(1. + exp_vect))\n",
    "    return C*((X.T).dot(coefs)).reshape(p,1)/n + w\n",
    "\n",
    "#print(val2(X_train, y_train, clf.coef_.reshape(clf.coef_.shape[1],1), 6.))\n",
    "#print(val2(X_train, y_train, np.zeros((X_train.shape[1],1)), 6.))\n",
    "\n",
    "print(np.linalg.norm(grad2(X_train, y_train, clf.coef_.reshape(clf.coef_.shape[1],1), 6.)))\n",
    "print(np.linalg.norm(clf.coef_))\n",
    "# 33631.6955089 31047.5800603 avec plus de tolérance...\n",
    "# 16523.2424902"
   ]
  },
  {
   "cell_type": "code",
   "execution_count": 101,
   "metadata": {
    "collapsed": false
   },
   "outputs": [
    {
     "name": "stdout",
     "output_type": "stream",
     "text": [
      "[[ 0.00151019]\n",
      " [ 0.0007551 ]\n",
      " [ 0.00151019]\n",
      " [ 0.00226529]\n",
      " [ 0.        ]\n",
      " [ 0.        ]\n",
      " [ 0.0007551 ]\n",
      " [ 0.        ]\n",
      " [ 0.0007551 ]\n",
      " [ 0.0007551 ]]\n",
      "45\n"
     ]
    }
   ],
   "source": [
    "n,p = X_train.shape\n",
    "w = np.zeros((p,1))\n",
    "C = 6.\n",
    "cur_grad = grad2(X_train, y_train, w, C)\n",
    "norm_grad = np.linalg.norm(cur_grad)\n",
    "\n",
    "eps = 7e-1\n",
    "alpha = 0.002\n",
    "cmp = 0\n",
    "print(cur_grad[:10])\n",
    "while(norm_grad > eps):\n",
    "    cmp += 1\n",
    "    w -= alpha*cur_grad\n",
    "    cur_grad = grad2(X_train, y_train, w, C)\n",
    "    norm_grad = np.linalg.norm(cur_grad)\n",
    "print(cmp)"
   ]
  },
  {
   "cell_type": "code",
   "execution_count": 82,
   "metadata": {
    "collapsed": false
   },
   "outputs": [
    {
     "name": "stdout",
     "output_type": "stream",
     "text": [
      "0.699968029232\n",
      "0.0677528819519\n"
     ]
    }
   ],
   "source": [
    "print(np.linalg.norm(grad2(X_train, y_train, w, 6.)))\n",
    "print(np.linalg.norm(w))"
   ]
  },
  {
   "cell_type": "code",
   "execution_count": 83,
   "metadata": {
    "collapsed": false
   },
   "outputs": [
    {
     "name": "stdout",
     "output_type": "stream",
     "text": [
      "0.762443438914\n"
     ]
    }
   ],
   "source": [
    "print(np.sum(((1./(1. + np.exp(-(X_valid.dot(w))))) > 0.5) == y_valid.reshape(y_valid.shape[0],1))/y_valid.shape[0])"
   ]
  },
  {
   "cell_type": "code",
   "execution_count": null,
   "metadata": {
    "collapsed": true
   },
   "outputs": [],
   "source": []
  }
 ],
 "metadata": {
  "kernelspec": {
   "display_name": "Python 3",
   "language": "python",
   "name": "python3"
  },
  "language_info": {
   "codemirror_mode": {
    "name": "ipython",
    "version": 3
   },
   "file_extension": ".py",
   "mimetype": "text/x-python",
   "name": "python",
   "nbconvert_exporter": "python",
   "pygments_lexer": "ipython3",
   "version": "3.5.1"
  }
 },
 "nbformat": 4,
 "nbformat_minor": 0
}
