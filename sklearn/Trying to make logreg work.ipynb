{
 "cells": [
  {
   "cell_type": "code",
   "execution_count": 267,
   "metadata": {
    "collapsed": true
   },
   "outputs": [],
   "source": [
    "import pandas as pd\n",
    "import numpy as np\n",
    "from sklearn.feature_extraction.text import CountVectorizer\n",
    "from sklearn.feature_extraction.text import TfidfTransformer\n",
    "from sklearn.feature_extraction.text import TfidfVectorizer\n",
    "from sklearn.cross_validation import train_test_split\n",
    "from sklearn.naive_bayes import BernoulliNB\n",
    "from sklearn.naive_bayes import MultinomialNB\n",
    "from sklearn.naive_bayes import GaussianNB\n",
    "from sklearn.pipeline import Pipeline\n",
    "from sklearn.grid_search import GridSearchCV\n",
    "from sklearn.linear_model import LogisticRegression\n",
    "import time"
   ]
  },
  {
   "cell_type": "code",
   "execution_count": 268,
   "metadata": {
    "collapsed": true
   },
   "outputs": [],
   "source": [
    "df = pd.read_csv('data-challenge-winners/data/train_better.csv', sep=';')\n",
    "X = df['message'].values\n",
    "y = df['y'].values\n",
    "X_vec = CountVectorizer(binary=True, ngram_range=(1, 1)).fit_transform(X)\n",
    "n_samples, n_features = X_vec.shape\n",
    "n = (n_samples*8)//10\n",
    "X_train, y_train, X_valid, y_valid = X_vec[:n,:], y[:n], X_vec[n:,:], y[n:]\n",
    "C = 1."
   ]
  },
  {
   "cell_type": "code",
   "execution_count": 279,
   "metadata": {
    "collapsed": false
   },
   "outputs": [],
   "source": [
    "def g(X, Y, w, C):\n",
    "    n,p = X.shape\n",
    "    exp_vect = np.exp(-Y*(X.dot(w)))\n",
    "    return C*np.sum(np.log(1. + exp_vect)) + np.sum(w**2)/2.\n",
    "\n",
    "def gradg(X, Y, w, C):\n",
    "    n,p = X.shape\n",
    "    exp_vect = np.exp(-Y*(X.dot(w)))\n",
    "    coefs = (-Y*exp_vect/(1. + exp_vect))\n",
    "    return C*((X.T).dot(coefs)) + w\n",
    "\n",
    "def gsafe(X, Y, w, C):\n",
    "    n,p = X.shape\n",
    "    val = 0.\n",
    "    \n",
    "    for i in range(n):\n",
    "        val += C*np.log(1. + np.exp(Y[i]*(X[i].dot(w))))\n",
    "    for i in range(p):\n",
    "        val += (w[i]**2)/2.\n",
    "    return val[0]\n",
    "\n",
    "def gradgsafe(X, Y, w, C):\n",
    "    n,p = X.shape\n",
    "    grad = 0.\n",
    "    for i in range(n):\n",
    "        grad -= C*Y[i]*np.exp(Y[i]*(X[i].dot(w)))/(1. + np.exp(Y[i]*(X[i].dot(w))))*X[i]\n",
    "    return grad + w"
   ]
  },
  {
   "cell_type": "code",
   "execution_count": 280,
   "metadata": {
    "collapsed": false
   },
   "outputs": [
    {
     "name": "stdout",
     "output_type": "stream",
     "text": [
      "2448.19584174\n",
      "2448.19584174\n",
      "[ 1.   0.5  1.  ..., -0.5  0.5  0. ]\n",
      "[ 1.   0.5  1.   1.5  0.   0.   0.5  0.   0.5  0.5]\n"
     ]
    }
   ],
   "source": [
    "y_train[y_train == 0.] = -1.\n",
    "print(g(X_train, y_train, np.zeros((n_features)), C))\n",
    "print(gsafe(X_train, y_train, np.zeros((n_features,)), C))\n",
    "\n",
    "print(gradg(X_train, y_train, np.zeros((n_features,)), C))\n",
    "print(gradgsafe(X_train, y_train, np.zeros((n_features,)), C)[:10])"
   ]
  },
  {
   "cell_type": "code",
   "execution_count": 281,
   "metadata": {
    "collapsed": false
   },
   "outputs": [
    {
     "name": "stdout",
     "output_type": "stream",
     "text": [
      "3229\n"
     ]
    }
   ],
   "source": [
    "alpha = 0.002\n",
    "C = 1.\n",
    "eps = 5e-3\n",
    "w = np.zeros((n_features,))\n",
    "cur_grad = gradg(X_train, y_train, w, C)\n",
    "norm_grad = np.linalg.norm(cur_grad)\n",
    "cmp = 0\n",
    "while(norm_grad > eps):\n",
    "    cmp += 1\n",
    "    w -= alpha*cur_grad\n",
    "    cur_grad = gradg(X_train, y_train, w, C)\n",
    "    norm_grad = np.linalg.norm(cur_grad)\n",
    "print(cmp)"
   ]
  },
  {
   "cell_type": "code",
   "execution_count": 282,
   "metadata": {
    "collapsed": false
   },
   "outputs": [
    {
     "name": "stdout",
     "output_type": "stream",
     "text": [
      "[ -1.04833331e-02   3.50558352e-01  -1.04833331e-02 ...,   1.65503660e-01\n",
      "  -2.15429687e-06   0.00000000e+00]\n"
     ]
    }
   ],
   "source": [
    "print(w)"
   ]
  },
  {
   "cell_type": "code",
   "execution_count": 275,
   "metadata": {
    "collapsed": false
   },
   "outputs": [],
   "source": [
    "C = 1.\n",
    "eps = 5e-5\n",
    "y_train[y_train == -1.] = 0.\n",
    "clf = LogisticRegression(tol=eps,C=C,fit_intercept=False) # On gagne en accuracy avec le paramètre class_weight={1 : np.sum(y_train)/n, 0 : 1 - np.sum(y_train)/n}\n",
    "clf.fit(X_train, y_train);"
   ]
  },
  {
   "cell_type": "code",
   "execution_count": 276,
   "metadata": {
    "collapsed": false
   },
   "outputs": [
    {
     "name": "stdout",
     "output_type": "stream",
     "text": [
      "0.759909399773\n",
      "0.759909399773\n",
      "0.759909399773\n"
     ]
    }
   ],
   "source": [
    "print(clf.score(X_valid, y_valid))\n",
    "print(np.sum((X_valid.dot(w) > 0) == y_valid)/y_valid.shape[0])\n",
    "print(np.sum((X_valid.dot(clf.coef_[0]) > 0) == y_valid)/y_valid.shape[0])"
   ]
  },
  {
   "cell_type": "code",
   "execution_count": 257,
   "metadata": {
    "collapsed": false
   },
   "outputs": [
    {
     "name": "stdout",
     "output_type": "stream",
     "text": [
      "[-0.01048333  0.35055835 -0.01048333 -0.1096141   0.22257449  0.\n",
      " -0.07012405  0.23371962 -0.10144089 -0.07012405]\n",
      "[-0.01048333  0.35048289 -0.01048333 -0.10955681  0.2225475   0.\n",
      " -0.07012537  0.23374659 -0.10143925 -0.07012537]\n"
     ]
    }
   ],
   "source": [
    "print(w[:10])\n",
    "print(clf.coef_[0][:10]*(w[0]/clf.coef_[0][0]))"
   ]
  },
  {
   "cell_type": "code",
   "execution_count": 199,
   "metadata": {
    "collapsed": false
   },
   "outputs": [
    {
     "name": "stdout",
     "output_type": "stream",
     "text": [
      "[-2.73948078 -0.86833897  1.6978246  -0.56910457 -1.93739927 -5.00348261\n",
      " -3.08222253 -2.8249492   2.07081694 -6.29770315]\n",
      "[-2.83830254 -0.89321167  1.67202746 -0.6717057  -1.96469071 -4.96725079\n",
      " -2.93569254 -2.49598114  2.00957457 -5.87275062]\n"
     ]
    }
   ],
   "source": [
    "print(X_valid.dot(w)[:10])\n",
    "print(X_valid.dot(clf.coef_[0])[:10])"
   ]
  },
  {
   "cell_type": "code",
   "execution_count": 200,
   "metadata": {
    "collapsed": false
   },
   "outputs": [
    {
     "name": "stdout",
     "output_type": "stream",
     "text": [
      "2288.16871174\n",
      "2287.00519216\n"
     ]
    }
   ],
   "source": [
    "print(g(X_train, y_train, w, C))\n",
    "print(g(X_train, y_train, clf.coef_[0], C))"
   ]
  },
  {
   "cell_type": "code",
   "execution_count": 201,
   "metadata": {
    "collapsed": true
   },
   "outputs": [],
   "source": [
    "def g(X, Y, w, w0,C):\n",
    "    n,p = X.shape\n",
    "    exp_vect = np.exp(-Y*(X.dot(w) + w0))\n",
    "    return C*np.sum(np.log(1. + exp_vect)) + (np.sum(w**2) + w0**2)/2.\n",
    "\n",
    "def gradg(X, Y, w, w0, C):\n",
    "    n,p = X.shape\n",
    "    exp_vect = np.exp(-Y*(X.dot(w) + w0))\n",
    "    coefs = (-Y*exp_vect/(1. + exp_vect))\n",
    "    return [np.sum(coefs) + w0,C*((X.T).dot(coefs)) + w]"
   ]
  },
  {
   "cell_type": "code",
   "execution_count": 206,
   "metadata": {
    "collapsed": false
   },
   "outputs": [
    {
     "name": "stdout",
     "output_type": "stream",
     "text": [
      "2448.19584174\n",
      "[681.0, array([ 1. ,  0.5,  1. , ..., -0.5,  0.5,  0. ])]\n"
     ]
    }
   ],
   "source": [
    "y_train[y_train == 0.] = -1.\n",
    "print(g(X_train, y_train, np.zeros((n_features)), 0., C))\n",
    "print(gradg(X_train, y_train, np.zeros((n_features,)), 0., C))"
   ]
  },
  {
   "cell_type": "code",
   "execution_count": 210,
   "metadata": {
    "collapsed": false
   },
   "outputs": [
    {
     "name": "stdout",
     "output_type": "stream",
     "text": [
      "2228\n"
     ]
    }
   ],
   "source": [
    "alpha = 0.002\n",
    "C = 1.\n",
    "eps = 5e-2\n",
    "w = np.zeros((n_features,))\n",
    "w0 = 0.\n",
    "cur_grad = gradg(X_train, y_train, w, w0, C)\n",
    "norm_grad = np.sqrt(cur_grad[0]**2 + np.sum(cur_grad[1]**2))\n",
    "cmp = 0\n",
    "while(norm_grad > eps):\n",
    "    cmp += 1\n",
    "    w0 -= alpha*cur_grad[0]\n",
    "    w -= alpha*cur_grad[1]\n",
    "    cur_grad = gradg(X_train, y_train, w, w0, C)\n",
    "    norm_grad = np.sqrt(cur_grad[0]**2 + np.sum(cur_grad[1]**2))\n",
    "print(cmp)"
   ]
  },
  {
   "cell_type": "code",
   "execution_count": 211,
   "metadata": {
    "collapsed": true
   },
   "outputs": [],
   "source": [
    "C = 1.\n",
    "eps = 5e-2\n",
    "y_train[y_train == -1.] = 0.\n",
    "clf = LogisticRegression(tol=eps,C=C,fit_intercept=True) # On gagne en accuracy avec le paramètre class_weight={1 : np.sum(y_train)/n, 0 : 1 - np.sum(y_train)/n}\n",
    "clf.fit(X_train, y_train);"
   ]
  },
  {
   "cell_type": "code",
   "execution_count": 215,
   "metadata": {
    "collapsed": false
   },
   "outputs": [
    {
     "name": "stdout",
     "output_type": "stream",
     "text": [
      "0.796149490374\n",
      "0.799546998867\n",
      "0.796149490374\n"
     ]
    }
   ],
   "source": [
    "print(clf.score(X_valid, y_valid))\n",
    "print(np.sum((X_valid.dot(w) + w0 > 0) == y_valid)/y_valid.shape[0])\n",
    "print(np.sum((X_valid.dot(clf.coef_[0]) + clf.intercept_[0] > 0) == y_valid)/y_valid.shape[0])"
   ]
  },
  {
   "cell_type": "code",
   "execution_count": 216,
   "metadata": {
    "collapsed": false
   },
   "outputs": [
    {
     "name": "stdout",
     "output_type": "stream",
     "text": [
      "[-0.01937315  0.31482182 -0.01937315 -0.06755514  0.17557353  0.         -0.0832368\n",
      "  0.20073568 -0.08540067 -0.0832368 ]\n",
      "[-0.01937315  0.47299238 -0.01937315 -0.12366426  0.25532929  0.\n",
      " -0.12573309  0.30210009 -0.1300292  -0.12573309]\n"
     ]
    }
   ],
   "source": [
    "print(w[:10])\n",
    "print(clf.coef_[0][:10]*(w[0]/clf.coef_[0][0]))"
   ]
  },
  {
   "cell_type": "code",
   "execution_count": 219,
   "metadata": {
    "collapsed": false
   },
   "outputs": [
    {
     "name": "stdout",
     "output_type": "stream",
     "text": [
      "2341.72468755\n",
      "2341.12531461\n"
     ]
    }
   ],
   "source": [
    "print(g(X_train, y_train, w, w0, C))\n",
    "print(g(X_train, y_train, clf.coef_[0], clf.intercept_[0], C))"
   ]
  },
  {
   "cell_type": "code",
   "execution_count": null,
   "metadata": {
    "collapsed": true
   },
   "outputs": [],
   "source": []
  }
 ],
 "metadata": {
  "kernelspec": {
   "display_name": "Python 3",
   "language": "python",
   "name": "python3"
  },
  "language_info": {
   "codemirror_mode": {
    "name": "ipython",
    "version": 3
   },
   "file_extension": ".py",
   "mimetype": "text/x-python",
   "name": "python",
   "nbconvert_exporter": "python",
   "pygments_lexer": "ipython3",
   "version": "3.5.1"
  }
 },
 "nbformat": 4,
 "nbformat_minor": 0
}
